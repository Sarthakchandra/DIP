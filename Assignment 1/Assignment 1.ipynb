{
 "cells": [
  {
   "cell_type": "code",
   "execution_count": 1,
   "source": [
    "import cv2 as cv\r\n",
    "import numpy as np\r\n",
    "from math import *\r\n",
    "import os"
   ],
   "outputs": [],
   "metadata": {}
  },
  {
   "cell_type": "markdown",
   "source": [
    "Question-3"
   ],
   "metadata": {}
  },
  {
   "cell_type": "code",
   "execution_count": null,
   "source": [
    "loc = input(\"Enter your image location: \")\r\n",
    "inter = int(input(\"Enter Interpolation factor: \"))\r\n",
    "# loc = r\"C:\\Users\\sarth\\Desktop\\x5.bmp\"\r\n",
    "# inter = 4\r\n",
    "img = cv.imread(loc,0)\r\n",
    "cv.imshow('input image',img)\r\n",
    "cv.waitKey(0)\r\n",
    "print(\"Interpolation Factor is: \",inter)\r\n",
    "def bilinear_interpolation(img,inter):\r\n",
    "    a = np.array(img)\r\n",
    "    S = a.shape\r\n",
    "    # print(S)\r\n",
    "    R = S[0]*inter\r\n",
    "    C = S[1]*inter\r\n",
    "    # print(type(R),type(C))\r\n",
    "    mat = np.ones((R,C))*-1\r\n",
    "    #Placing he values at their specific positions\r\n",
    "    for i in range(img.shape[0]):\r\n",
    "        for j in range(img.shape[1]):\r\n",
    "            mat[round(i*inter)][round(j*inter)] = a[i][j]\r\n",
    "    #Range of known values\r\n",
    "    x_mat = i*inter\r\n",
    "    y_mat = j*inter\r\n",
    "    # print(x_mat,y_mat)    \r\n",
    "    for i in range(x_mat+1):  \r\n",
    "        for j in range(y_mat+1):\r\n",
    "            if mat[i][j] == -1:\r\n",
    "                #Applying bilinear Interpolation for every NN in orignal Matrix\r\n",
    "                x = i/inter\r\n",
    "                y = j/inter\r\n",
    "\r\n",
    "                if ceil(x) != x:\r\n",
    "                    x1 = floor(x)\r\n",
    "                    x2 = ceil(x)\r\n",
    "                else: \r\n",
    "                    if x == 0:\r\n",
    "                        x1 = 0\r\n",
    "                        x2 = 1\r\n",
    "                    else:\r\n",
    "                        x1 = x-1\r\n",
    "                        x2 = x\r\n",
    "                if ceil(y) != y:\r\n",
    "                    y1 = floor(y)\r\n",
    "                    y2 = ceil(y)\r\n",
    "                else: \r\n",
    "                    if y == 0:\r\n",
    "                        y1 = 0\r\n",
    "                        y2 = 1\r\n",
    "                    else:\r\n",
    "                        y1 = y-1\r\n",
    "                        y2 = y\r\n",
    "                #Neighbours co-ordinate ranges\r\n",
    "                x1,y1,x2,y2 = int(x1),int(y1),int(x2),int(y2)\r\n",
    "                #X Matrix for Neighbours\r\n",
    "                X = [\r\n",
    "                    [x1,y1,x1*y1,1],[x1,y2,x1*y2,1],[x2,y2,x2*y2,1],[x2,y1,x2*y1,1]]\r\n",
    "                V = [[a[x1][y1]],[a[x1][y2]],[a[x2][y2]],[a[x2][y1]]]\r\n",
    "                # A = X^-1.V\r\n",
    "                A = np.dot(np.linalg.inv(X),V)\r\n",
    "                #Finding interpolated Pixel Value\r\n",
    "                mat[i][j] = np.dot(np.array([x,y,x*y,1]),A)\r\n",
    "    # Mirroring the Borders\r\n",
    "    for i in range (x_mat+1):\r\n",
    "        for j in range(y_mat+1,len(mat[0])):\r\n",
    "            mat[i][j] = mat[i][j-1]\r\n",
    "\r\n",
    "    for j in range(len(mat[0])):\r\n",
    "        for i in range(x_mat+1,len(mat)):\r\n",
    "            mat[i][j] = mat[i-1][j]\r\n",
    "    return mat\r\n",
    "mat_inter = bilinear_interpolation(img,inter)\r\n",
    "print(mat_inter)\r\n",
    "cv.imshow(\"Q3\",np.uint8(mat_inter))\r\n",
    "cv.waitKey(0)"
   ],
   "outputs": [],
   "metadata": {}
  },
  {
   "cell_type": "markdown",
   "source": [
    "Question - 4"
   ],
   "metadata": {}
  },
  {
   "cell_type": "code",
   "execution_count": 2,
   "source": [
    "rot = pi*45/180\r\n",
    "scalex = 2\r\n",
    "scaley = 2\r\n",
    "transx = 30\r\n",
    "transy = 30\r\n",
    "loc2 = r'C:\\Users\\sarth\\Desktop\\assign1.jpg'\r\n",
    "img2 = cv.imread(loc2,0)\r\n",
    "a = np.array(img2)\r\n",
    "# print(len(a))\r\n",
    "\r\n",
    "whisper = 7*img2.shape[0]\r\n",
    "R_2 = img2.shape[0]\r\n",
    "C_2 = img2.shape[1]\r\n",
    "cv.imshow(\"Input\",np.uint8(img2))\r\n",
    "cv.waitKey(0)"
   ],
   "outputs": [
    {
     "output_type": "execute_result",
     "data": {
      "text/plain": [
       "-1"
      ]
     },
     "metadata": {},
     "execution_count": 2
    }
   ],
   "metadata": {}
  },
  {
   "cell_type": "code",
   "execution_count": 6,
   "source": [
    "print(R_2,C_2)\r\n",
    "def transformation(rot,scalex,scaley,transx,transy):\r\n",
    "    R = [\r\n",
    "        [cos(rot),-sin(rot),0],\r\n",
    "        [sin(rot),cos(rot),0],\r\n",
    "        [0,0,1]\r\n",
    "        ]\r\n",
    "    R = np.array(R)\r\n",
    "    S = [\r\n",
    "        [scalex,0,0],\r\n",
    "        [0,scaley,0],\r\n",
    "        [0,0,1]\r\n",
    "        ]\r\n",
    "    S = np.array(S)\r\n",
    "    T = [\r\n",
    "        [1,0,0],\r\n",
    "        [0,1,0],\r\n",
    "        [transx,transy,1]\r\n",
    "        ]\r\n",
    "    T = np.array(T)\r\n",
    "    T1 = np.matmul(R,S)\r\n",
    "    Trans = np.matmul(T1,T)\r\n",
    "    print(\"The Transformation Matrix is: \")\r\n",
    "    print(Trans)\r\n",
    "    return (Trans)\r\n",
    "mat_T = transformation(rot,scalex,scaley,transx,transy)\r\n",
    "mat_TI = np.linalg.inv(mat_T)\r\n",
    "# print(img2.shape)\r\n",
    "# print(np.linalg.inv(mat_T))\r\n",
    "# V = np.empty((0,3),int)\r\n",
    "# inver = \r\n",
    "# V = np.empty((img2.shape[0],img2.shape[1]))\r\n",
    "def trans_interpolation(whisper,R_2,C_2,mat_TI,img2,a):\r\n",
    "    at = np.ones((whisper,whisper))*-1\r\n",
    "    for i in range(whisper):\r\n",
    "        for j in range(whisper):\r\n",
    "            # print(i,j)\r\n",
    "            try:\r\n",
    "                X1 = np.matmul(np.array([i-(2*R_2),j-(2*C_2),1]),mat_TI)\r\n",
    "                # if ((X1[0][0]>=0) and (X1[0][0] <=R_2) and (X1[0][1]>=0) and (X1[0][1] <=C_2)):\r\n",
    "                #Applying bilinear Interpolation for every NN in orignal Matrix\r\n",
    "                x = X1[0]\r\n",
    "                y = X1[1]\r\n",
    "                # print(x,y)\r\n",
    "                if(x<0 or x >= len(a) or y < 0 or y >= len(a[0])):\r\n",
    "                    at[i][j] = 0\r\n",
    "                    continue\r\n",
    "                \r\n",
    "                if ceil(x) != x:\r\n",
    "                    x1 = floor(x)\r\n",
    "                    x2 = ceil(x)\r\n",
    "                else: \r\n",
    "                    if x == 0:\r\n",
    "                        x1 = 0\r\n",
    "                        x2 = 1\r\n",
    "                    else:\r\n",
    "                        x1 = x-1\r\n",
    "                        x2 = x\r\n",
    "                if ceil(y) != y:\r\n",
    "                    y1 = floor(y)\r\n",
    "                    y2 = ceil(y)\r\n",
    "                else: \r\n",
    "                    if y == 0:\r\n",
    "                        y1 = 0\r\n",
    "                        y2 = 1\r\n",
    "                    else:\r\n",
    "                        y1 = y-1\r\n",
    "                        y2 = y\r\n",
    "                #Neighbours co-ordinate ranges\r\n",
    "                x1,y1,x2,y2 = int(x1),int(y1),int(x2),int(y2)\r\n",
    "                #X Matrix for Neighbours\r\n",
    "                X = [\r\n",
    "                    [x1,y1,x1*y1,1],\r\n",
    "                    [x1,y2,x1*y2,1],\r\n",
    "                    [x2,y2,x2*y2,1],\r\n",
    "                    [x2,y1,x2*y1,1]\r\n",
    "                    ]\r\n",
    "                V = [\r\n",
    "                    [img2[x1][y1]],\r\n",
    "                    [img2[x1][y2]],\r\n",
    "                    [img2[x2][y2]],\r\n",
    "                    [img2[x2][y1]]\r\n",
    "                    ]\r\n",
    "                # A = X^-1.V\r\n",
    "                A = np.dot(np.linalg.inv(X),V)\r\n",
    "                #Finding interpolated Pixel Value\r\n",
    "                at[i][j] = np.dot(np.array([x,y,x*y,1]),A)\r\n",
    "            except:\r\n",
    "                at[i][j] = 0\r\n",
    "    return at\r\n",
    "# print(at)\r\n",
    "mat1 = trans_interpolation(whisper,R_2,C_2,mat_TI,img2,a)\r\n",
    "cv.line(mat1,(128,128),(128,400),(255,255,255),1)\r\n",
    "cv.line(mat1,(128,128),(338,128),(255,255,255),1)\r\n",
    "# cv.putText(at,\"(0,0)\",(38,128),cv.FONT_HERSHEY_SIMPLEX,1,(255,255,255),1)\r\n",
    "cv.imshow(\"Output\",np.uint8(mat1))\r\n",
    "cv.waitKey(0)"
   ],
   "outputs": [
    {
     "output_type": "stream",
     "name": "stdout",
     "text": [
      "64 64\n",
      "The Transformation Matrix is: \n",
      "[[ 1.41421356 -1.41421356  0.        ]\n",
      " [ 1.41421356  1.41421356  0.        ]\n",
      " [30.         30.          1.        ]]\n",
      "[[ 3.53553391e-01  3.53553391e-01  0.00000000e+00]\n",
      " [-3.53553391e-01  3.53553391e-01 -0.00000000e+00]\n",
      " [-1.66533454e-15 -2.12132034e+01  1.00000000e+00]]\n"
     ]
    },
    {
     "output_type": "execute_result",
     "data": {
      "text/plain": [
       "-1"
      ]
     },
     "metadata": {},
     "execution_count": 6
    }
   ],
   "metadata": {}
  },
  {
   "cell_type": "code",
   "execution_count": null,
   "source": [
    "os.chdir(r\"C:\\Users\\sarth\\Desktop\")\r\n",
    "cv.imwrite(\"Input.bmp\",img2)\r\n",
    "cv.imwrite(\"Output.jpg\",mat1)"
   ],
   "outputs": [
    {
     "output_type": "execute_result",
     "data": {
      "text/plain": [
       "True"
      ]
     },
     "metadata": {},
     "execution_count": 29
    }
   ],
   "metadata": {}
  },
  {
   "cell_type": "markdown",
   "source": [
    "Question 5"
   ],
   "metadata": {}
  },
  {
   "cell_type": "code",
   "execution_count": 8,
   "source": [
    "#Using T = V-1X\r\n",
    "# Using MS Paint to Manually find out the co-ordinates of the Matrix. The pixels co-ordinates were \r\n",
    "# (0,0) -> (158,158); (64,0) ->  (248,248); (64,64) -> (158,337) upto certain decimals. Keeping in \r\n",
    "# mind our padding (To account for the negative values, we kept a sufficiently large padding), \r\n",
    "# we can allot the following values to the co-ordinate.\r\n",
    "O = cv.imshow(\"Unregistered Q4 Output\",np.uint8(mat1))\r\n",
    "I = cv.imshow(\"Input image Q4\",img2)\r\n",
    "\r\n",
    "cv.waitKey(0)\r\n",
    "b = np.array(I)\r\n",
    "# print(O[5][2],b[2])\r\n",
    "VR = [\r\n",
    "    [0,0,1],\r\n",
    "    [64,0,1],\r\n",
    "    [64,64,1]\r\n",
    "    # [0,64,1]\r\n",
    "    ]\r\n",
    "XR =[\r\n",
    "    [30,30,1],\r\n",
    "    [120.51,-60.51,1],\r\n",
    "    [211.02,30,1]\r\n",
    "    # [69,247,1]\r\n",
    "    ]\r\n",
    "VRI = np.linalg.inv(VR)\r\n",
    "Z = np.matmul(VRI,XR)\r\n",
    "\r\n",
    "#Writing the code to register the matrix O, using Z inverse\r\n",
    "ZI = np.linalg.inv(Z)\r\n",
    "# print(ZI)\r\n",
    "#Calling the function\r\n",
    "Reg_O = trans_interpolation(whisper,R_2,C_2,ZI,img2,a)\r\n",
    "cv.line(Reg_O,(128,128),(128,400),(255,255,255),1)\r\n",
    "cv.line(Reg_O,(128,128),(338,128),(255,255,255),1)\r\n",
    "# cv.putText(at,\"(0,0)\",(38,128),cv.FONT_HERSHEY_SIMPLEX,1,(255,255,255),1)\r\n",
    "cv.imshow(\"Registered Image\",np.uint8(Reg_O))\r\n",
    "cv.waitKey(0)\r\n"
   ],
   "outputs": [
    {
     "output_type": "stream",
     "name": "stdout",
     "text": [
      "[[ 3.53552094e-01  3.53552094e-01  0.00000000e+00]\n",
      " [-3.53552094e-01  3.53552094e-01 -0.00000000e+00]\n",
      " [ 1.66532232e-15 -2.12131256e+01  1.00000000e+00]]\n"
     ]
    },
    {
     "output_type": "execute_result",
     "data": {
      "text/plain": [
       "-1"
      ]
     },
     "metadata": {},
     "execution_count": 8
    }
   ],
   "metadata": {}
  },
  {
   "cell_type": "code",
   "execution_count": null,
   "source": [],
   "outputs": [],
   "metadata": {}
  }
 ],
 "metadata": {
  "orig_nbformat": 4,
  "language_info": {
   "name": "python",
   "version": "3.9.7",
   "mimetype": "text/x-python",
   "codemirror_mode": {
    "name": "ipython",
    "version": 3
   },
   "pygments_lexer": "ipython3",
   "nbconvert_exporter": "python",
   "file_extension": ".py"
  },
  "kernelspec": {
   "name": "python3",
   "display_name": "Python 3.9.7 64-bit (windows store)"
  },
  "interpreter": {
   "hash": "d7d80601e53b25ae79ea193be14c277f9b183edcb9bd2d70481fc2c807579e89"
  }
 },
 "nbformat": 4,
 "nbformat_minor": 2
}